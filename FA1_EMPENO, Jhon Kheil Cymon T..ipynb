{
 "cells": [
  {
   "cell_type": "code",
   "execution_count": 6,
   "metadata": {},
   "outputs": [
    {
     "name": "stdout",
     "output_type": "stream",
     "text": [
      "42\n",
      "42\n",
      "10\n",
      "Average : 7.0 minutes 7seconds per miles\n",
      "Average in hours : 0.71 mph\n"
     ]
    }
   ],
   "source": [
    "minutes= input()\n",
    "seconds = input()\n",
    "#in seconds\n",
    "time = (int(minutes)*60) + int(seconds)\n",
    "\n",
    "kilometers = input()\n",
    "miles = int(kilometers)/1.61\n",
    "average = int(time)/int(miles)\n",
    "minute = int(average)/60\n",
    "\n",
    "second = int(average) % 60\n",
    "round(minute, 0)\n",
    "hours = (int(time)/60)/60\n",
    "print(\"Average : \" + str(round(minute,0)) + \" minutes \" + str(second)+ \"seconds per miles\")\n",
    "print(\"Average in hours : \" + str(round(hours,2)) + \" mph\")"
   ]
  },
  {
   "cell_type": "code",
   "execution_count": null,
   "metadata": {},
   "outputs": [],
   "source": [
    "kilometers = input()\n",
    "miles = int(kilometers) / 1.61\n",
    "print(\"%.2f\"%miles)"
   ]
  }
 ],
 "metadata": {
  "kernelspec": {
   "display_name": "Python 3",
   "language": "python",
   "name": "python3"
  },
  "language_info": {
   "codemirror_mode": {
    "name": "ipython",
    "version": 3
   },
   "file_extension": ".py",
   "mimetype": "text/x-python",
   "name": "python",
   "nbconvert_exporter": "python",
   "pygments_lexer": "ipython3",
   "version": "3.7.0"
  }
 },
 "nbformat": 4,
 "nbformat_minor": 2
}
